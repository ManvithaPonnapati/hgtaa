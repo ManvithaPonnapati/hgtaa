{
 "cells": [
  {
   "cell_type": "code",
   "outputs": [],
   "source": [
    "!pip install aiohttp"
   ],
   "metadata": {
    "collapsed": false
   },
   "id": "9c950d772a3617bc"
  },
  {
   "cell_type": "code",
   "outputs": [],
   "source": [
    "import aiohttp\n",
    "import asyncio\n",
    "\n",
    "async def post_sample_request(url: str, pdb_string: str, mpnn_config: dict):\n",
    "    payload = {\n",
    "        \"pdb_string\": pdb_string,\n",
    "        \"params\": mpnn_config\n",
    "    }\n",
    "    async with aiohttp.ClientSession() as session:\n",
    "        async with session.post(url, json=payload) as response:\n",
    "            response_json = await response.json()\n",
    "            return response_json\n",
    "\n",
    "url = \"\"  \n",
    "pdb_string = \"https://molecularmachines--colabdesign-fastapi-app.modal.run/sample\"  \n",
    "mpnn_config = {\n",
    "    \"fix_pos\": \"value_to_fix\",   \n",
    "    \"inverse\": False,           \n",
    "    \"temp\": 0.5,                 \n",
    "    \"batch\": 5,                  \n",
    "    \"chains\": \"A\"                \n",
    "}\n",
    "\n",
    "response_data = asyncio.run(post_sample_request(url, pdb_string, mpnn_config))\n",
    "print(response_data)"
   ],
   "metadata": {
    "collapsed": true,
    "is_executing": true
   },
   "id": "initial_id",
   "execution_count": 0
  }
 ],
 "metadata": {
  "kernelspec": {
   "display_name": "Python 3",
   "language": "python",
   "name": "python3"
  },
  "language_info": {
   "codemirror_mode": {
    "name": "ipython",
    "version": 2
   },
   "file_extension": ".py",
   "mimetype": "text/x-python",
   "name": "python",
   "nbconvert_exporter": "python",
   "pygments_lexer": "ipython2",
   "version": "2.7.6"
  }
 },
 "nbformat": 4,
 "nbformat_minor": 5
}
