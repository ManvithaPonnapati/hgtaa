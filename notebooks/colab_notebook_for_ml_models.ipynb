{
  "nbformat": 4,
  "nbformat_minor": 0,
  "metadata": {
    "colab": {
      "private_outputs": true,
      "provenance": [],
      "collapsed_sections": [
        "OZAN9_XfGKWb",
        "PTM1mSG9DwI8"
      ]
    },
    "kernelspec": {
      "name": "python3",
      "display_name": "Python 3"
    },
    "language_info": {
      "name": "python"
    }
  },
  "cells": [
    {
      "cell_type": "markdown",
      "source": [
        "## Install Libraries"
      ],
      "metadata": {
        "id": "wBczXoGXD2El"
      }
    },
    {
      "cell_type": "code",
      "source": [
        "!pip install aiohttp"
      ],
      "metadata": {
        "id": "G90QR7IBDyiS"
      },
      "execution_count": null,
      "outputs": []
    },
    {
      "cell_type": "markdown",
      "source": [
        "# Cleaning and Renumbering your PDB\n",
        "\n",
        "Sometimes, PDBs will start at position 20, this is because PDB's often contain sub components of a bigger protein sequence (You can refer to [UniProt](https://www.uniprot.org/) for the full sequence). If you want to renumber your protein to be numbered from position 1, use the following code. This will also clean your protein by fixing any chain breaks etc."
      ],
      "metadata": {
        "id": "OZAN9_XfGKWb"
      }
    },
    {
      "cell_type": "code",
      "source": [],
      "metadata": {
        "id": "eXbU8nu8Glid"
      },
      "execution_count": null,
      "outputs": []
    },
    {
      "cell_type": "markdown",
      "source": [
        "# ProteinMPNN : Generating Sequences From a Protein Structure\n",
        "\n",
        "This code runs the ProteinMPNN model and gives you a set of sequences for the pdb sturcture provided. If your pdb has more than chain, then you should also specify the chain that you want to make proposal sequences for. Note that these sequences are predicted to fold into the same structure as the provided PDB but there is no guarantee that they will perform the same function.  "
      ],
      "metadata": {
        "id": "PTM1mSG9DwI8"
      }
    },
    {
      "cell_type": "code",
      "execution_count": null,
      "metadata": {
        "id": "V7LUEzrQAC77"
      },
      "outputs": [],
      "source": [
        "import aiohttp\n",
        "import asyncio\n",
        "from google.colab import files\n",
        "\n",
        "#@markdown #### Upload a PDB File\n",
        "chains = \"A\" #@param {type:\"string\"}\n",
        "temp = \"0.1\" #@param {type:\"string\"}\n",
        "num_seqs = \"8\" #@param {type:\"string\"}\n",
        "#@markdown #### Fix some positions in the protein sequence and only sample new amino acids at other positions.\n",
        "fix_pos = \"A20-45\" #@param {type:\"string\"}\n",
        "#@markdown - specify which positions to keep fixed in the sequence (example: `1,2-10`)\n",
        "#@markdown - you can also specify chain specific constraints (example: `A1-10,B1-20`)\n",
        "#@markdown - you can also specify to fix entire chain(s) (example: `A`)\n",
        "\n",
        "#@markdown #### If you want to do the inverse of the fix positions where you only sample at the residues specified but not at the other locations check the following box\n",
        "inverse = False #@param {type:\"boolean\"}\n",
        "\n",
        "\n",
        "upload_dict = files.upload()\n",
        "pdb_string = upload_dict[list(upload_dict.keys())[0]]\n",
        "with open(\"tmp.pdb\",\"wb\") as out: out.write(pdb_string)\n",
        "\n",
        "\n",
        "async def post_sample_request(url: str, pdb_string: str, mpnn_config: dict):\n",
        "    payload = {\n",
        "        \"pdb_string\": pdb_string,\n",
        "        \"params\": mpnn_config\n",
        "    }\n",
        "    async with aiohttp.ClientSession() as session:\n",
        "        async with session.post(url, json=payload) as response:\n",
        "            response_json = await response.json()\n",
        "            return response_json\n",
        "\n",
        "url = \"https://molecularmachines--colabdesign-fastapi-app.modal.run/sample\"\n",
        "pdb_string = open(\"tmp.pdb\",\"r\").read()\n",
        "\n",
        "mpnn_config = {\n",
        "    \"fix_pos\": fix_pos,\n",
        "    \"inverse\": inverse,\n",
        "    \"temp\": float(temp),\n",
        "    \"batch\": int(num_seqs),\n",
        "    \"chains\": chains\n",
        "}\n",
        "response_data = await post_sample_request(url, pdb_string, mpnn_config)\n",
        "response_data"
      ]
    },
    {
      "cell_type": "markdown",
      "source": [
        "# AlphaFold : Fold a protein using it's sequence\n",
        "\n",
        "This code will run alphafold model and return a PDB structure that is the predicted structure for that sequence. You can evaluate how good the predicted structure is by using how confident AlphaFold is about its prediction. High confidence is usually a good indicator for correlating with the ground truth structure."
      ],
      "metadata": {
        "id": "ky9-1p_YG92E"
      }
    },
    {
      "cell_type": "code",
      "source": [
        "import aiohttp\n",
        "import asyncio\n",
        "\n",
        "#@markdown #### Input the sequence you would like to fold. Output will be in the files under ```output_predicted.pdb```\n",
        "sequence = \"RMAAAADFFF\" #@param {type:\"string\"}\n",
        "\n",
        "async def post_fold_request(url:str,sequence:str):\n",
        "    payload = {\n",
        "        \"sequence\": sequence\n",
        "    }\n",
        "    async with aiohttp.ClientSession() as session:\n",
        "        async with session.post(url, json=payload) as response:\n",
        "            response_json = await response.json()\n",
        "            return response_json\n",
        "\n",
        "alphafold_url = \"https://molecularmachines--colabfold-fastapi-app.modal.run/alphafold/monomer\"\n",
        "\n",
        "response_data = await post_fold_request(alphafold_url, sequence)\n",
        "with open(\"output_predicted.pdb\",\"w\") as f:\n",
        "  f.write(response_data['results']['predicted_output'])"
      ],
      "metadata": {
        "id": "EPXil3KMCYV7"
      },
      "execution_count": null,
      "outputs": []
    },
    {
      "cell_type": "markdown",
      "source": [
        "# AlphaFold-Multimer Fold multiple sequences to predict protein complex structure\n",
        "\n",
        "This code will run alphafold model and return a PDB structure that is the predicted structure of two sequences. You can evaluate how good the predicted structure is by using how confident AlphaFold is about its prediction. High confidence is usually a good indicator for correlating with the ground truth structure."
      ],
      "metadata": {
        "id": "38gFJBazNdzJ"
      }
    },
    {
      "cell_type": "code",
      "source": [
        "import aiohttp\n",
        "import asyncio\n",
        "\n",
        "#@markdown #### Input the sequences you would like to fold. Output will be in the files under ```output_predicted_complex.pdb```\n",
        "sequence1 = \"RMAAAADFFF\" #@param {type:\"string\"}\n",
        "sequence2 = \"RMAAAADFFF\" #@param {type:\"string\"}\n",
        "\n",
        "async def post_multimer_request(url:str,sequence1:str,sequence2:str):\n",
        "    payload = {\n",
        "        \"sequences\": [sequence1],\n",
        "        \"target_sequence\":sequence2\n",
        "    }\n",
        "    async with aiohttp.ClientSession() as session:\n",
        "        async with session.post(url, json=payload) as response:\n",
        "            response_json = await response.json()\n",
        "            return response_json\n",
        "url = \"https://molecularmachines--colabfold-fastapi-app.modal.run/alphafold/multimer\"\n",
        "\n",
        "response_data = await post_multimer_request(url, sequence1, sequence2)\n",
        "pdb_string = response_data[\"results\"][0][\"pdb_str\"]\n",
        "with open(\"output_predicted_complex.pdb\",\"w\") as f:\n",
        "  f.write(pdb_string)"
      ],
      "metadata": {
        "id": "BMPd2ovwNpIa"
      },
      "execution_count": null,
      "outputs": []
    },
    {
      "cell_type": "markdown",
      "source": [
        "# Embed a protein sequence with ESMC model\n",
        "\n",
        "Embeds a protein sequence with ESMC - https://www.evolutionaryscale.ai/blog/esm-cambrian and gives you a list of numbers which is the embedding of that sequence"
      ],
      "metadata": {
        "id": "XagJNyaTPTO0"
      }
    },
    {
      "cell_type": "code",
      "source": [
        "import aiohttp\n",
        "import asyncio\n",
        "\n",
        "#@markdown #### Input the sequence you would like to fold. Output will be in the files under ```output_predicted.pdb```\n",
        "sequence = \"RMAAAADFFF\" #@param {type:\"string\"}\n",
        "\n",
        "async def post_embedding(url:str,sequence:str):\n",
        "    payload = {\n",
        "        \"sequence\": sequence\n",
        "    }\n",
        "\n",
        "    async with aiohttp.ClientSession() as session:\n",
        "        async with session.post(url, json=payload) as response:\n",
        "            response_json = await response.json()\n",
        "            return response_json\n",
        "\n",
        "esm_url = \"https://molecularmachines--esm-fast-app.modal.run/esm/embedding\"\n",
        "\n",
        "response_data = await post_embedding(esm_url, sequence)\n",
        "embedding = response_data[sequence]\n",
        "embedding"
      ],
      "metadata": {
        "id": "1OSNLhNcPSri"
      },
      "execution_count": null,
      "outputs": []
    },
    {
      "cell_type": "markdown",
      "source": [
        "# Fold with Boltz"
      ],
      "metadata": {
        "id": "BUQAMwXtR8a0"
      }
    },
    {
      "cell_type": "code",
      "source": [],
      "metadata": {
        "id": "U0lzUCFeR7-3"
      },
      "execution_count": null,
      "outputs": []
    }
  ]
}