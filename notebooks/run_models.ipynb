{
 "cells": [
  {
   "cell_type": "code",
   "outputs": [],
   "source": [
    "!pip install aiohttp"
   ],
   "metadata": {
    "collapsed": false
   },
   "id": "9c950d772a3617bc"
  },
  {
   "cell_type": "markdown",
   "source": [
    "# Generating Sequences From a Protein Structure\n",
    "\n",
    "This code runs the ProteinMPNN model and gives you a set of sequences for the pdb sturcture provided. If your pdb has more than chain, then you should also specify the chain that you want to make proposal sequences for. Note that these sequences are predicted to fold into the same structure as the provided PDB but there is no guarantee that they will perform the same function.  "
   ],
   "metadata": {
    "collapsed": false
   },
   "id": "a89acc70904326e6"
  },
  {
   "cell_type": "code",
   "outputs": [],
   "source": [
    "import aiohttp\n",
    "import asyncio\n",
    "\n",
    "async def post_sample_request(url: str, pdb_string: str, mpnn_config: dict):\n",
    "    payload = {\n",
    "        \"pdb_string\": pdb_string,\n",
    "        \"params\": mpnn_config\n",
    "    }\n",
    "    async with aiohttp.ClientSession() as session:\n",
    "        async with session.post(url, json=payload) as response:\n",
    "            response_json = await response.json()\n",
    "            return response_json\n",
    "\n",
    "url = \"https://molecularmachines--colabdesign-fastapi-app.modal.run/sample\"  \n",
    "pdb_string = \"\"  \n",
    "\n",
    "mpnn_config = {\n",
    "    \"fix_pos\": \"value_to_fix\",   \n",
    "    \"inverse\": False,           \n",
    "    \"temp\": 0.5,                 \n",
    "    \"batch\": 5,                  \n",
    "    \"chains\": \"A\"                \n",
    "}\n",
    "response_data = asyncio.run(post_sample_request(url, pdb_string, mpnn_config))"
   ],
   "metadata": {
    "collapsed": true,
    "is_executing": true
   },
   "id": "initial_id",
   "execution_count": 0
  },
  {
   "cell_type": "markdown",
   "source": [
    "# Fold a protein using it's sequence\n",
    "\n",
    "This code will run alphafold model and return a PDB structure that is the predicted structure for that sequence. You can evaluate how good the predicted structure is by using how confident AlphaFold is about its prediction. High confidence is usually a good indicator for correlating with the ground truth structure. "
   ],
   "metadata": {
    "collapsed": false
   },
   "id": "d77f56decffa18b2"
  },
  {
   "cell_type": "code",
   "outputs": [],
   "source": [
    "import aiohttp\n",
    "import asyncio\n",
    "\n",
    "async def post_fold_request(url:str,sequence:str):\n",
    "    payload = {\n",
    "        \"sequence\": sequence\n",
    "    }\n",
    "    async with aiohttp.ClientSession() as session:\n",
    "        async with session.post(url, json=payload) as response:\n",
    "            response_json = await response.json()\n",
    "            return response_json"
   ],
   "metadata": {
    "collapsed": false,
    "is_executing": true
   },
   "id": "36ff50502837ad7a"
  },
  {
   "cell_type": "code",
   "outputs": [],
   "source": [
    "url = \"https://molecularmachines--colabdesign-fastapi-app.modal.run/alphafold/monomer\"  \n",
    "sequence = \"RMAAAADFFF\"\n",
    "response_data = asyncio.run(post_fold_request(url, sequence))"
   ],
   "metadata": {
    "collapsed": false
   },
   "id": "ddc03259a1e5d3cc"
  },
  {
   "cell_type": "markdown",
   "source": [
    "# Fold a protein sequences together\n",
    "\n",
    "This code will run alphafold model and return a PDB structure that is the predicted structure of two sequences. You can evaluate how good the predicted structure is by using how confident AlphaFold is about its prediction. High confidence is usually a good indicator for correlating with the ground truth structure. "
   ],
   "metadata": {
    "collapsed": false
   },
   "id": "563d599d1a145f98"
  },
  {
   "cell_type": "code",
   "outputs": [],
   "source": [
    "import aiohttp\n",
    "import asyncio\n",
    "\n",
    "async def post_multimer_request(url:str,sequence1:str,sequence2:str):\n",
    "    payload = {\n",
    "        \"sequences\": [sequence1],\n",
    "        \"target_sequence\":sequence2\n",
    "    }\n",
    "    async with aiohttp.ClientSession() as session:\n",
    "        async with session.post(url, json=payload) as response:\n",
    "            response_json = await response.json()\n",
    "            return response_json\n",
    "url = \"https://molecularmachines--colabdesign-fastapi-app.modal.run/alphafold/multimer\"  \n",
    "sequence1 = \"RMAAAADFFF\"\n",
    "sequence2 = \"RMAAAADFFF\"\n",
    "response_data = asyncio.run(post_fold_request(url, sequence1, sequence2))"
   ],
   "metadata": {
    "collapsed": false
   },
   "id": "d8053971610a2771"
  }
 ],
 "metadata": {
  "kernelspec": {
   "display_name": "Python 3",
   "language": "python",
   "name": "python3"
  },
  "language_info": {
   "codemirror_mode": {
    "name": "ipython",
    "version": 2
   },
   "file_extension": ".py",
   "mimetype": "text/x-python",
   "name": "python",
   "nbconvert_exporter": "python",
   "pygments_lexer": "ipython2",
   "version": "2.7.6"
  }
 },
 "nbformat": 4,
 "nbformat_minor": 5
}
